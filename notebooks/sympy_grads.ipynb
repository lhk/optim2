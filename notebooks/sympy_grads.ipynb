{
 "cells": [
  {
   "cell_type": "code",
   "execution_count": 1,
   "metadata": {},
   "outputs": [],
   "source": [
    "from sympy import *"
   ]
  },
  {
   "cell_type": "code",
   "execution_count": 2,
   "metadata": {},
   "outputs": [],
   "source": [
    "#init_printing()"
   ]
  },
  {
   "cell_type": "code",
   "execution_count": 3,
   "metadata": {},
   "outputs": [],
   "source": [
    "x, z, a, y = symbols(\"x z a y\")"
   ]
  },
  {
   "cell_type": "code",
   "execution_count": 4,
   "metadata": {},
   "outputs": [],
   "source": [
    "z = z(x)"
   ]
  },
  {
   "cell_type": "code",
   "execution_count": 5,
   "metadata": {},
   "outputs": [],
   "source": [
    "a = a(z)"
   ]
  },
  {
   "cell_type": "code",
   "execution_count": 6,
   "metadata": {},
   "outputs": [],
   "source": [
    "y = y(a)"
   ]
  },
  {
   "cell_type": "code",
   "execution_count": 7,
   "metadata": {},
   "outputs": [
    {
     "data": {
      "text/plain": [
       "Derivative(z(x), x)*Subs(Derivative(a(_xi_1), _xi_1), (_xi_1,), (z(x),))*Subs(Derivative(y(_xi_1), _xi_1), (_xi_1,), (a(z(x)),))"
      ]
     },
     "execution_count": 7,
     "metadata": {},
     "output_type": "execute_result"
    }
   ],
   "source": [
    "diff(y, x)"
   ]
  },
  {
   "cell_type": "code",
   "execution_count": 8,
   "metadata": {},
   "outputs": [
    {
     "data": {
      "text/plain": [
       "Derivative(z(x), x, x)"
      ]
     },
     "execution_count": 8,
     "metadata": {},
     "output_type": "execute_result"
    }
   ],
   "source": [
    "diff(z, x, x)"
   ]
  },
  {
   "cell_type": "code",
   "execution_count": 9,
   "metadata": {},
   "outputs": [
    {
     "data": {
      "text/plain": [
       "Derivative(z(x), x)**2*Derivative(a(z(x)), z(x), z(x))*Subs(Derivative(y(_xi_1), _xi_1), (_xi_1,), (a(z(x)),)) + Derivative(z(x), x)**2*Derivative(y(a(z(x))), a(z(x)), a(z(x)))*Subs(Derivative(a(_xi_1), _xi_1), (_xi_1,), (z(x),))**2 + Derivative(z(x), x, x)*Subs(Derivative(a(_xi_1), _xi_1), (_xi_1,), (z(x),))*Subs(Derivative(y(_xi_1), _xi_1), (_xi_1,), (a(z(x)),))"
      ]
     },
     "execution_count": 9,
     "metadata": {},
     "output_type": "execute_result"
    }
   ],
   "source": [
    "diff(y, x, x)"
   ]
  },
  {
   "cell_type": "code",
   "execution_count": 10,
   "metadata": {},
   "outputs": [],
   "source": [
    "import numpy as np"
   ]
  },
  {
   "cell_type": "code",
   "execution_count": 11,
   "metadata": {},
   "outputs": [],
   "source": [
    "np.random.seed(0)\n",
    "\n",
    "W1 = np.random.rand(4, 3)\n",
    "b1 = np.random.rand(4, 1)\n",
    "W2 = np.random.rand(1, 4)\n",
    "b2 = np.random.rand(1, 1)\n",
    "\n",
    "W1val = Matrix(W1)\n",
    "b1val = Matrix(b1)\n",
    "W2val = Matrix(W2)\n",
    "b2val = Matrix(b2)"
   ]
  },
  {
   "cell_type": "code",
   "execution_count": 12,
   "metadata": {},
   "outputs": [],
   "source": [
    "W1 = MatrixSymbol(\"W1\", 4, 3)\n",
    "b1 = MatrixSymbol(\"b1\", 4, 1)\n",
    "W2 = MatrixSymbol(\"W2\", 1, 4)\n",
    "b2 = MatrixSymbol(\"b2\", 1, 1)"
   ]
  },
  {
   "cell_type": "code",
   "execution_count": 13,
   "metadata": {},
   "outputs": [],
   "source": [
    "x = MatrixSymbol(\"X\", 3, 1)\n",
    "x_val = Matrix(np.random.rand(3,1))"
   ]
  },
  {
   "cell_type": "code",
   "execution_count": 14,
   "metadata": {},
   "outputs": [],
   "source": [
    "feed_dict = {W1: W1val, b1:b1val, W2:W2val, b2:b2val, x:x_val}"
   ]
  },
  {
   "cell_type": "code",
   "execution_count": 15,
   "metadata": {},
   "outputs": [],
   "source": [
    "from sympy.matrices import matrix_multiply_elementwise"
   ]
  },
  {
   "cell_type": "code",
   "execution_count": 16,
   "metadata": {},
   "outputs": [],
   "source": [
    "z1 = (W1@x+b1)\n",
    "z1 = z1.as_explicit() # if I don't convert this to an explicit matrix, the elementwise mult is not allowed\n",
    "a1 = matrix_multiply_elementwise(z1, z1)\n",
    "\n",
    "z2 = W2@a1 + b2\n",
    "z2 = z2.as_explicit()\n",
    "a2 = matrix_multiply_elementwise(z2, z2)"
   ]
  },
  {
   "cell_type": "code",
   "execution_count": 17,
   "metadata": {},
   "outputs": [
    {
     "data": {
      "text/plain": [
       "12148.6545101115"
      ]
     },
     "execution_count": 17,
     "metadata": {},
     "output_type": "execute_result"
    }
   ],
   "source": [
    "diff(a2[0,0]*a2[0,0], x[0,0], x[0,0]).subs(feed_dict).evalf()"
   ]
  },
  {
   "cell_type": "code",
   "execution_count": null,
   "metadata": {},
   "outputs": [],
   "source": []
  }
 ],
 "metadata": {
  "kernelspec": {
   "display_name": "Python 3",
   "language": "python",
   "name": "python3"
  },
  "language_info": {
   "codemirror_mode": {
    "name": "ipython",
    "version": 3
   },
   "file_extension": ".py",
   "mimetype": "text/x-python",
   "name": "python",
   "nbconvert_exporter": "python",
   "pygments_lexer": "ipython3",
   "version": "3.6.6"
  }
 },
 "nbformat": 4,
 "nbformat_minor": 2
}
