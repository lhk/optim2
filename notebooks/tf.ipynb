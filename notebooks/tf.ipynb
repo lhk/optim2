{
 "cells": [
  {
   "cell_type": "code",
   "execution_count": 2,
   "metadata": {},
   "outputs": [],
   "source": [
    "import numpy as np\n",
    "import tensorflow as tf"
   ]
  },
  {
   "cell_type": "code",
   "execution_count": 15,
   "metadata": {},
   "outputs": [],
   "source": [
    "np.random.seed(0)\n",
    "\n",
    "W1_val = np.random.rand(4, 3)\n",
    "b1_val = np.random.rand(4, 1)\n",
    "W2_val = np.random.rand(1, 4)\n",
    "b2_val = np.random.rand(1, 1)\n",
    "x_val = np.random.rand(3, 1)\n",
    "\n",
    "W1 = tf.constant(W1_val)\n",
    "b1 = tf.constant(b1_val)\n",
    "W2 = tf.constant(W2_val)\n",
    "b2 = tf.constant(b2_val)"
   ]
  },
  {
   "cell_type": "code",
   "execution_count": 16,
   "metadata": {},
   "outputs": [],
   "source": [
    "x = tf.placeholder(shape=(3,1), dtype=np.float64)"
   ]
  },
  {
   "cell_type": "code",
   "execution_count": 17,
   "metadata": {},
   "outputs": [],
   "source": [
    "z1 = (W1@x+b1)\n",
    "a1 = z1**2\n",
    "\n",
    "z2 = W2@a1 + b2\n",
    "a2 = z2**2"
   ]
  },
  {
   "cell_type": "code",
   "execution_count": 20,
   "metadata": {},
   "outputs": [],
   "source": [
    "sess = tf.Session()"
   ]
  },
  {
   "cell_type": "code",
   "execution_count": 34,
   "metadata": {},
   "outputs": [
    {
     "data": {
      "text/plain": [
       "[[array([[ 6962.19332554],\n",
       "         [ 9821.4284842 ],\n",
       "         [10552.23930613]])], [array([[[[12148.65451011],\n",
       "           [17211.56717148],\n",
       "           [18415.60424182]]],\n",
       "  \n",
       "  \n",
       "         [[[17211.56717148],\n",
       "           [25168.80037002],\n",
       "           [26476.97723468]]],\n",
       "  \n",
       "  \n",
       "         [[[18415.60424182],\n",
       "           [26476.97723468],\n",
       "           [28287.02854993]]]])]]"
      ]
     },
     "execution_count": 34,
     "metadata": {},
     "output_type": "execute_result"
    }
   ],
   "source": [
    "var = x\n",
    "grads = tf.gradients(a2**2, var)\n",
    "hess = tf.hessians(a2**2, var)\n",
    "sess.run([grads, hess], feed_dict={x:x_val})"
   ]
  },
  {
   "cell_type": "code",
   "execution_count": 33,
   "metadata": {},
   "outputs": [
    {
     "data": {
      "text/plain": [
       "<tf.Tensor 'strided_slice_1:0' shape=() dtype=float64>"
      ]
     },
     "execution_count": 33,
     "metadata": {},
     "output_type": "execute_result"
    }
   ],
   "source": [
    "x[0,0]"
   ]
  },
  {
   "cell_type": "code",
   "execution_count": null,
   "metadata": {},
   "outputs": [],
   "source": []
  }
 ],
 "metadata": {
  "kernelspec": {
   "display_name": "Python 3",
   "language": "python",
   "name": "python3"
  },
  "language_info": {
   "codemirror_mode": {
    "name": "ipython",
    "version": 3
   },
   "file_extension": ".py",
   "mimetype": "text/x-python",
   "name": "python",
   "nbconvert_exporter": "python",
   "pygments_lexer": "ipython3",
   "version": "3.6.6"
  }
 },
 "nbformat": 4,
 "nbformat_minor": 2
}
