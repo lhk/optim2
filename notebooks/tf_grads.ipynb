{
 "cells": [
  {
   "cell_type": "code",
   "execution_count": 1,
   "metadata": {},
   "outputs": [],
   "source": [
    "import numpy as np\n",
    "import tensorflow as tf"
   ]
  },
  {
   "cell_type": "code",
   "execution_count": 2,
   "metadata": {},
   "outputs": [],
   "source": [
    "np.random.seed(0)\n",
    "batch_size = 1\n",
    "\n",
    "W1_val = np.random.rand(4, 3)\n",
    "b1_val = np.random.rand(4, 1)\n",
    "W2_val = np.random.rand(1, 4)\n",
    "b2_val = np.random.rand(1, 1)\n",
    "x_val = np.random.rand(batch_size, 3)\n",
    "\n",
    "W1 = tf.constant(W1_val)\n",
    "b1 = tf.constant(b1_val)\n",
    "W2 = tf.constant(W2_val)\n",
    "b2 = tf.constant(b2_val)"
   ]
  },
  {
   "cell_type": "code",
   "execution_count": 3,
   "metadata": {},
   "outputs": [],
   "source": [
    "x = tf.placeholder(shape=(batch_size, 3), dtype=np.float64)"
   ]
  },
  {
   "cell_type": "code",
   "execution_count": null,
   "metadata": {},
   "outputs": [],
   "source": []
  },
  {
   "cell_type": "code",
   "execution_count": 30,
   "metadata": {},
   "outputs": [],
   "source": [
    "xT = tf.transpose(x)\n",
    "z1 = (W1@xT+b1)\n",
    "a1 = tf.tanh(z1)\n",
    "\n",
    "z2 = W2@a1 + b2\n",
    "a2 = tf.tanh(z2)\n",
    "\n",
    "c = tf.transpose(a2)\n",
    "c = c**2"
   ]
  },
  {
   "cell_type": "code",
   "execution_count": 31,
   "metadata": {},
   "outputs": [],
   "source": [
    "sess = tf.Session()"
   ]
  },
  {
   "cell_type": "code",
   "execution_count": 40,
   "metadata": {},
   "outputs": [
    {
     "data": {
      "text/plain": [
       "array([[[[-3.07510379e-05, -1.77573888e-05, -3.00341927e-05],\n",
       "         [-1.68371619e-06, -9.72272976e-07, -1.64446666e-06],\n",
       "         [-3.87932697e-06, -2.24014284e-06, -3.78889499e-06],\n",
       "         [-8.95037125e-06, -5.16845067e-06, -8.74172688e-06]],\n",
       "\n",
       "        [[-1.77573888e-05, -1.02541208e-05, -1.73434419e-05],\n",
       "         [-9.72272976e-07, -5.61445416e-07, -9.49608074e-07],\n",
       "         [-2.24014284e-06, -1.29358520e-06, -2.18792230e-06],\n",
       "         [-5.16845067e-06, -2.98455579e-06, -5.04796761e-06]],\n",
       "\n",
       "        [[-3.00341927e-05, -1.73434419e-05, -2.93340580e-05],\n",
       "         [-1.64446666e-06, -9.49608074e-07, -1.60613208e-06],\n",
       "         [-3.78889499e-06, -2.18792230e-06, -3.70057110e-06],\n",
       "         [-8.74172688e-06, -5.04796761e-06, -8.53794627e-06]]],\n",
       "\n",
       "\n",
       "       [[[-1.68371619e-06, -9.72272976e-07, -1.64446666e-06],\n",
       "         [-8.36639831e-04, -4.83123166e-04, -8.17136708e-04],\n",
       "         [-9.82527369e-05, -5.67366883e-05, -9.59623424e-05],\n",
       "         [-2.26688413e-04, -1.30902713e-04, -2.21404021e-04]],\n",
       "\n",
       "        [[-9.72272976e-07, -5.61445416e-07, -9.49608074e-07],\n",
       "         [-4.83123166e-04, -2.78982646e-04, -4.71860959e-04],\n",
       "         [-5.67366883e-05, -3.27629733e-05, -5.54140850e-05],\n",
       "         [-1.30902713e-04, -7.55906314e-05, -1.27851206e-04]],\n",
       "\n",
       "        [[-1.64446666e-06, -9.49608074e-07, -1.60613208e-06],\n",
       "         [-8.17136708e-04, -4.71860959e-04, -7.98088227e-04],\n",
       "         [-9.59623424e-05, -5.54140850e-05, -9.37253399e-05],\n",
       "         [-2.21404021e-04, -1.27851206e-04, -2.16242816e-04]]],\n",
       "\n",
       "\n",
       "       [[[-3.87932697e-06, -2.24014284e-06, -3.78889499e-06],\n",
       "         [-9.82527369e-05, -5.67366883e-05, -9.59623424e-05],\n",
       "         [-1.96358143e-03, -1.13388300e-03, -1.91780789e-03],\n",
       "         [-5.22296142e-04, -3.01603338e-04, -5.10120764e-04]],\n",
       "\n",
       "        [[-2.24014284e-06, -1.29358520e-06, -2.18792230e-06],\n",
       "         [-5.67366883e-05, -3.27629733e-05, -5.54140850e-05],\n",
       "         [-1.13388300e-03, -6.54768184e-04, -1.10745076e-03],\n",
       "         [-3.01603338e-04, -1.74162829e-04, -2.94572586e-04]],\n",
       "\n",
       "        [[-3.78889499e-06, -2.18792230e-06, -3.70057110e-06],\n",
       "         [-9.59623424e-05, -5.54140850e-05, -9.37253399e-05],\n",
       "         [-1.91780789e-03, -1.10745076e-03, -1.87310138e-03],\n",
       "         [-5.10120764e-04, -2.94572586e-04, -4.98229209e-04]]],\n",
       "\n",
       "\n",
       "       [[[-8.95037125e-06, -5.16845067e-06, -8.74172688e-06],\n",
       "         [-2.26688413e-04, -1.30902713e-04, -2.21404021e-04],\n",
       "         [-5.22296142e-04, -3.01603338e-04, -5.10120764e-04],\n",
       "         [-4.80126127e-03, -2.77251986e-03, -4.68933785e-03]],\n",
       "\n",
       "        [[-5.16845067e-06, -2.98455579e-06, -5.04796761e-06],\n",
       "         [-1.30902713e-04, -7.55906314e-05, -1.27851206e-04],\n",
       "         [-3.01603338e-04, -1.74162829e-04, -2.94572586e-04],\n",
       "         [-2.77251986e-03, -1.60100980e-03, -2.70788894e-03]],\n",
       "\n",
       "        [[-8.74172688e-06, -5.04796761e-06, -8.53794627e-06],\n",
       "         [-2.21404021e-04, -1.27851206e-04, -2.16242816e-04],\n",
       "         [-5.10120764e-04, -2.94572586e-04, -4.98229209e-04],\n",
       "         [-4.68933785e-03, -2.70788894e-03, -4.58002351e-03]]]])"
      ]
     },
     "execution_count": 40,
     "metadata": {},
     "output_type": "execute_result"
    }
   ],
   "source": [
    "out = c\n",
    "inp = W1\n",
    "grads = tf.gradients(out, inp)\n",
    "hess = tf.hessians(out, inp)\n",
    "res = sess.run([hess], feed_dict={x:x_val})\n",
    "res = res[0][0]\n",
    "res"
   ]
  },
  {
   "cell_type": "code",
   "execution_count": 7,
   "metadata": {},
   "outputs": [
    {
     "data": {
      "text/plain": [
       "(1, 3, 1, 3)"
      ]
     },
     "execution_count": 7,
     "metadata": {},
     "output_type": "execute_result"
    }
   ],
   "source": [
    "res.shape"
   ]
  },
  {
   "cell_type": "code",
   "execution_count": null,
   "metadata": {},
   "outputs": [],
   "source": []
  },
  {
   "cell_type": "code",
   "execution_count": 8,
   "metadata": {},
   "outputs": [
    {
     "data": {
      "text/plain": [
       "<tf.Tensor 'strided_slice:0' shape=() dtype=float64>"
      ]
     },
     "execution_count": 8,
     "metadata": {},
     "output_type": "execute_result"
    }
   ],
   "source": [
    "x[0,0]"
   ]
  },
  {
   "cell_type": "markdown",
   "metadata": {},
   "source": [
    "### 2nd order derivative\n",
    "\n",
    "Our model starts with a vector valued input $\\vec{x}$, maps it to some intermediate value $\\vec{a}$ and finally produces a scalar y. The information flow looks like this:\n",
    "$$\n",
    "\\begin{bmatrix}x_1 \\\\ x_2 \\\\ \\vdots \\\\x_n \\end{bmatrix} \\to \n",
    "\\begin{bmatrix}a_1 \\\\ a_2 \\\\ \\vdots \\\\a_n \\end{bmatrix} \\to \n",
    "y\n",
    "$$\n",
    "\n",
    "We are interested in the first and second derivatives of y with respect to x. Since y is a scalar, the Jacobian matrix is a row vector, and the second derivative can be expressed as a Hessian: \n",
    "$$\n",
    "J_{yx}, (J_{yx})_i= \\frac{\\partial y}{\\partial x_i}\\\\\n",
    "H_{yx}, (H_{yx})_{ij} = \\frac{\\partial^2y}{\\partial x_i \\partial x_j}\n",
    "$$\n",
    "\n",
    "The first and second derivative of y with respect to a are given. The naming scheme is the same, we use $J_{ya}$ and $H_{ya}$"
   ]
  },
  {
   "cell_type": "markdown",
   "metadata": {},
   "source": [
    "Now we want to use this to calculate $J_{yx}$ and $H_{yx}$.\n",
    "\n",
    "The Jacobian of y with respect to x is straightforward. First we calculate the Jacobian $J_{ax}$, since a is a vector, this is a matrix. To get the Jacobian $J_{yx}$, we use a matrix product:\n",
    "$$\n",
    "(J_{ax})_{ij} = \\frac{\\partial a_i}{\\partial x_j} \\\\\n",
    "(J_{yx})_{j} = \\sum_i (J_{ya})_i * (J_{ax})_{ij}\n",
    "$$\n",
    "\n",
    "The Hessian of y with respect to x is complicated. We need to look at all the paths through a, to compute the derivatives:\n",
    "$$\n",
    "\\begin{align}\n",
    "(H_{yx})_{ij}&= \\frac{\\partial^2 y}{\\partial x_i \\partial x_j} \\\\\n",
    "&= \\sum_{h,k} \\frac{\\partial^2 y}{\\partial a_h \\partial a_k} \\frac{\\partial a_h}{\\partial x_i} \\frac{\\partial a_k}{\\partial x_j} \\\\\n",
    "&\\; +\\sum_h \\frac{\\partial y}{\\partial a_h} \\frac{\\partial^2 a_h}{\\partial x_i \\partial x_j}\n",
    "\\end{align}\n",
    "$$"
   ]
  },
  {
   "cell_type": "markdown",
   "metadata": {},
   "source": [
    "Apparently the Hessian consists of two components:\n",
    "$$\n",
    "\\begin{align}\n",
    "(H_{yx})_{ij} &= (I_{yx})_{ij} + (O_{yx})_{ij} \\\\\n",
    "(I_{yx})_{ij} &= \\sum_{h,k} \\frac{\\partial^2 y}{\\partial a_h \\partial a_k} \\frac{\\partial a_h}{\\partial x_i} \\frac{\\partial a_k}{\\partial x_j} \\\\\n",
    "(O_{yx})_{ij} &=\\sum_h \\frac{\\partial y}{\\partial a_h} \\frac{\\partial^2 a_h}{\\partial x_i \\partial x_j}\n",
    "\\end{align}\n",
    "$$"
   ]
  },
  {
   "cell_type": "markdown",
   "metadata": {},
   "source": [
    "We can rewrite this in terms of the given Jacobians and Hessians:\n",
    "$$\n",
    "\\begin{align}\n",
    "(I_{yx})_{i,j} &= \\sum_{h,k} (H_{ya})_{h,k} (J_{ax})_{h,i} (J_{ax})_{k,j} \\\\\n",
    "(O_{yx})_{i,j} &= \\sum_{h} (J_{ya})_{1, h} (H_{ax})_{h,i,j}\n",
    "\\end{align}\n",
    "$$\n",
    "\n",
    "Please note the Hessian $H_{ax}$, this is indexed with 3 indices. Because a is a vector and we take the second derivative with respect to a vector, this becomes a 3-dimensional tensor. To avoid confusion, I'm using two indices for $(J_{ya})_{1, h}$, this is a row vector."
   ]
  },
  {
   "cell_type": "markdown",
   "metadata": {},
   "source": [
    "### coding samples\n",
    "Now I will look at concerete implementations. To stay compatible with the notation above, I assume that our layer maps x to a and that the whole model finally outputs y."
   ]
  },
  {
   "cell_type": "code",
   "execution_count": 9,
   "metadata": {},
   "outputs": [],
   "source": [
    "import numpy as np"
   ]
  },
  {
   "cell_type": "code",
   "execution_count": 10,
   "metadata": {},
   "outputs": [],
   "source": [
    "m = 4\n",
    "n = 4\n",
    "a = np.empty((m, n, n), dtype=np.dtype('a5'))"
   ]
  },
  {
   "cell_type": "code",
   "execution_count": 11,
   "metadata": {},
   "outputs": [],
   "source": [
    "for i, j, k in np.ndindex(*a.shape):\n",
    "    a[i,j,k] = '{} {} {}'.format(i,j,k)"
   ]
  },
  {
   "cell_type": "code",
   "execution_count": 12,
   "metadata": {},
   "outputs": [
    {
     "data": {
      "text/plain": [
       "b'0 1 2'"
      ]
     },
     "execution_count": 12,
     "metadata": {},
     "output_type": "execute_result"
    }
   ],
   "source": [
    "a[0,1,2]"
   ]
  },
  {
   "cell_type": "code",
   "execution_count": 13,
   "metadata": {},
   "outputs": [],
   "source": [
    "a[np.arange(n), np.arange(n), np.arange(n)]=1"
   ]
  },
  {
   "cell_type": "code",
   "execution_count": 14,
   "metadata": {},
   "outputs": [
    {
     "data": {
      "text/plain": [
       "array([[[b'1', b'0 0 1', b'0 0 2', b'0 0 3'],\n",
       "        [b'0 1 0', b'0 1 1', b'0 1 2', b'0 1 3'],\n",
       "        [b'0 2 0', b'0 2 1', b'0 2 2', b'0 2 3'],\n",
       "        [b'0 3 0', b'0 3 1', b'0 3 2', b'0 3 3']],\n",
       "\n",
       "       [[b'1 0 0', b'1 0 1', b'1 0 2', b'1 0 3'],\n",
       "        [b'1 1 0', b'1', b'1 1 2', b'1 1 3'],\n",
       "        [b'1 2 0', b'1 2 1', b'1 2 2', b'1 2 3'],\n",
       "        [b'1 3 0', b'1 3 1', b'1 3 2', b'1 3 3']],\n",
       "\n",
       "       [[b'2 0 0', b'2 0 1', b'2 0 2', b'2 0 3'],\n",
       "        [b'2 1 0', b'2 1 1', b'2 1 2', b'2 1 3'],\n",
       "        [b'2 2 0', b'2 2 1', b'1', b'2 2 3'],\n",
       "        [b'2 3 0', b'2 3 1', b'2 3 2', b'2 3 3']],\n",
       "\n",
       "       [[b'3 0 0', b'3 0 1', b'3 0 2', b'3 0 3'],\n",
       "        [b'3 1 0', b'3 1 1', b'3 1 2', b'3 1 3'],\n",
       "        [b'3 2 0', b'3 2 1', b'3 2 2', b'3 2 3'],\n",
       "        [b'3 3 0', b'3 3 1', b'3 3 2', b'1']]], dtype='|S5')"
      ]
     },
     "execution_count": 14,
     "metadata": {},
     "output_type": "execute_result"
    }
   ],
   "source": [
    "a"
   ]
  },
  {
   "cell_type": "code",
   "execution_count": null,
   "metadata": {},
   "outputs": [],
   "source": []
  },
  {
   "cell_type": "code",
   "execution_count": null,
   "metadata": {},
   "outputs": [],
   "source": []
  }
 ],
 "metadata": {
  "kernelspec": {
   "display_name": "Python 3",
   "language": "python",
   "name": "python3"
  },
  "language_info": {
   "codemirror_mode": {
    "name": "ipython",
    "version": 3
   },
   "file_extension": ".py",
   "mimetype": "text/x-python",
   "name": "python",
   "nbconvert_exporter": "python",
   "pygments_lexer": "ipython3",
   "version": "3.6.5"
  }
 },
 "nbformat": 4,
 "nbformat_minor": 2
}
