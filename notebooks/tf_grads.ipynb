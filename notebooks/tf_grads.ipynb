{
 "cells": [
  {
   "cell_type": "code",
   "execution_count": 1,
   "metadata": {},
   "outputs": [],
   "source": [
    "import numpy as np\n",
    "import tensorflow as tf"
   ]
  },
  {
   "cell_type": "code",
   "execution_count": 2,
   "metadata": {},
   "outputs": [],
   "source": [
    "np.random.seed(0)\n",
    "batch_size = 1\n",
    "\n",
    "W1_val = np.random.rand(4, 3)\n",
    "b1_val = np.random.rand(4, 1)\n",
    "W2_val = np.random.rand(1, 4)\n",
    "b2_val = np.random.rand(1, 1)\n",
    "x_val = np.random.rand(batch_size, 3)\n",
    "\n",
    "W1 = tf.constant(W1_val)\n",
    "b1 = tf.constant(b1_val)\n",
    "W2 = tf.constant(W2_val)\n",
    "b2 = tf.constant(b2_val)"
   ]
  },
  {
   "cell_type": "code",
   "execution_count": 3,
   "metadata": {},
   "outputs": [],
   "source": [
    "x = tf.placeholder(shape=(batch_size, 3), dtype=np.float64)"
   ]
  },
  {
   "cell_type": "code",
   "execution_count": null,
   "metadata": {},
   "outputs": [],
   "source": []
  },
  {
   "cell_type": "code",
   "execution_count": 4,
   "metadata": {},
   "outputs": [],
   "source": [
    "xT = tf.transpose(x)\n",
    "z1 = (W1@xT+b1)\n",
    "a1 = tf.tanh(z1)\n",
    "\n",
    "z2 = W2@a1 + b2\n",
    "a2 = tf.tanh(z2)\n",
    "\n",
    "c = tf.transpose(a2)\n",
    "c = c**2"
   ]
  },
  {
   "cell_type": "code",
   "execution_count": 5,
   "metadata": {},
   "outputs": [],
   "source": [
    "sess = tf.Session()"
   ]
  },
  {
   "cell_type": "code",
   "execution_count": 6,
   "metadata": {},
   "outputs": [
    {
     "data": {
      "text/plain": [
       "array([[2.02608924e-05, 1.16997854e-05, 1.97885856e-05],\n",
       "       [5.13152964e-04, 2.96323550e-04, 5.01190725e-04],\n",
       "       [1.18231810e-03, 6.82737353e-04, 1.15475678e-03],\n",
       "       [2.72784069e-03, 1.57520952e-03, 2.66425130e-03]])"
      ]
     },
     "execution_count": 6,
     "metadata": {},
     "output_type": "execute_result"
    }
   ],
   "source": [
    "out = c\n",
    "inp = W1\n",
    "grads = tf.gradients(out, inp)\n",
    "hess = tf.hessians(out, inp)\n",
    "res = sess.run([grads], feed_dict={x:x_val})\n",
    "res = res[0][0]\n",
    "res"
   ]
  },
  {
   "cell_type": "code",
   "execution_count": 7,
   "metadata": {},
   "outputs": [
    {
     "data": {
      "text/plain": [
       "(4, 3)"
      ]
     },
     "execution_count": 7,
     "metadata": {},
     "output_type": "execute_result"
    }
   ],
   "source": [
    "res.shape"
   ]
  },
  {
   "cell_type": "code",
   "execution_count": 8,
   "metadata": {},
   "outputs": [
    {
     "data": {
      "text/plain": [
       "0.0011547567837718721"
      ]
     },
     "execution_count": 8,
     "metadata": {},
     "output_type": "execute_result"
    }
   ],
   "source": [
    "res[2,2]"
   ]
  },
  {
   "cell_type": "code",
   "execution_count": 9,
   "metadata": {},
   "outputs": [
    {
     "data": {
      "text/plain": [
       "<tf.Tensor 'strided_slice:0' shape=() dtype=float64>"
      ]
     },
     "execution_count": 9,
     "metadata": {},
     "output_type": "execute_result"
    }
   ],
   "source": [
    "x[0,0]"
   ]
  },
  {
   "cell_type": "markdown",
   "metadata": {},
   "source": [
    "### 2nd order derivative\n",
    "\n",
    "Our model starts with a vector valued input $\\vec{x}$, maps it to some intermediate value $\\vec{a}$ and finally produces a scalar y. The information flow looks like this:\n",
    "$$\n",
    "\\begin{bmatrix}x_1 \\\\ x_2 \\\\ \\vdots \\\\x_n \\end{bmatrix} \\to \n",
    "\\begin{bmatrix}a_1 \\\\ a_2 \\\\ \\vdots \\\\a_n \\end{bmatrix} \\to \n",
    "y\n",
    "$$\n",
    "\n",
    "We are interested in the first and second derivatives of y with respect to x. Since y is a scalar, the Jacobian matrix is a row vector, and the second derivative can be expressed as a Hessian: \n",
    "$$\n",
    "J_{yx}, (J_{yx})_i= \\frac{\\partial y}{\\partial x_i}\\\\\n",
    "H_{yx}, (H_{yx})_{ij} = \\frac{\\partial^2y}{\\partial x_i \\partial x_j}\n",
    "$$\n",
    "\n",
    "The first and second derivative of y with respect to a are given. The naming scheme is the same, we use $J_{ya}$ and $H_{ya}$"
   ]
  },
  {
   "cell_type": "markdown",
   "metadata": {},
   "source": [
    "Now we want to use this to calculate $J_{yx}$ and $H_{yx}$.\n",
    "\n",
    "The Jacobian of y with respect to x is straightforward. First we calculate the Jacobian $J_{ax}$, since a is a vector, this is a matrix. To get the Jacobian $J_{yx}$, we use a matrix product:\n",
    "$$\n",
    "(J_{ax})_{ij} = \\frac{\\partial a_i}{\\partial x_j} \\\\\n",
    "(J_{yx})_{j} = \\sum_i (J_{ya})_i * (J_{ax})_{ij}\n",
    "$$\n",
    "\n",
    "The Hessian of y with respect to x is complicated. We need to look at all the paths through a, to compute the derivatives:\n",
    "$$\n",
    "\\begin{align}\n",
    "(H_{yx})_{ij}&= \\frac{\\partial^2 y}{\\partial x_i \\partial x_j} \\\\\n",
    "&= \\sum_{h,k} \\frac{\\partial^2 y}{\\partial a_h \\partial a_k} \\frac{\\partial a_h}{\\partial x_i} \\frac{\\partial a_k}{\\partial x_j} \\\\\n",
    "&\\; +\\sum_h \\frac{\\partial y}{\\partial a_h} \\frac{\\partial^2 a_h}{\\partial x_i \\partial x_j}\n",
    "\\end{align}\n",
    "$$"
   ]
  },
  {
   "cell_type": "markdown",
   "metadata": {},
   "source": [
    "Apparently the Hessian consists of two components:\n",
    "$$\n",
    "\\begin{align}\n",
    "(H_{yx})_{ij} &= (I_{yx})_{ij} + (O_{yx})_{ij} \\\\\n",
    "(I_{yx})_{ij} &= \\sum_{h,k} \\frac{\\partial^2 y}{\\partial a_h \\partial a_k} \\frac{\\partial a_h}{\\partial x_i} \\frac{\\partial a_k}{\\partial x_j} \\\\\n",
    "(O_{yx})_{ij} &=\\sum_h \\frac{\\partial y}{\\partial a_h} \\frac{\\partial^2 a_h}{\\partial x_i \\partial x_j}\n",
    "\\end{align}\n",
    "$$"
   ]
  },
  {
   "cell_type": "markdown",
   "metadata": {},
   "source": [
    "We can rewrite this in terms of the given Jacobians and Hessians:\n",
    "$$\n",
    "\\begin{align}\n",
    "(I_{yx})_{i,j} &= \\sum_{h,k} (H_{ya})_{h,k} (J_{ax})_{h,i} (J_{ax})_{k,j} \\\\\n",
    "(O_{yx})_{i,j} &= \\sum_{h} (J_{ya})_{1, h} (H_{ax})_{h,i,j}\n",
    "\\end{align}\n",
    "$$\n",
    "\n",
    "Please note the Hessian $H_{ax}$, this is indexed with 3 indices. Because a is a vector and we take the second derivative with respect to a vector, this becomes a 3-dimensional tensor. To avoid confusion, I'm using two indices for $(J_{ya})_{1, h}$, this is a row vector."
   ]
  },
  {
   "cell_type": "markdown",
   "metadata": {},
   "source": [
    "### coding samples\n",
    "Now I will look at concerete implementations. To stay compatible with the notation above, I assume that our layer maps x to a and that the whole model finally outputs y."
   ]
  },
  {
   "cell_type": "code",
   "execution_count": 10,
   "metadata": {},
   "outputs": [],
   "source": [
    "import numpy as np"
   ]
  },
  {
   "cell_type": "code",
   "execution_count": 11,
   "metadata": {},
   "outputs": [],
   "source": [
    "m = 4\n",
    "n = 4\n",
    "a = np.empty((m, n, n), dtype=np.dtype('a5'))"
   ]
  },
  {
   "cell_type": "code",
   "execution_count": 12,
   "metadata": {},
   "outputs": [],
   "source": [
    "for i, j, k in np.ndindex(*a.shape):\n",
    "    a[i,j,k] = '{} {} {}'.format(i,j,k)"
   ]
  },
  {
   "cell_type": "code",
   "execution_count": 13,
   "metadata": {},
   "outputs": [
    {
     "data": {
      "text/plain": [
       "b'0 1 2'"
      ]
     },
     "execution_count": 13,
     "metadata": {},
     "output_type": "execute_result"
    }
   ],
   "source": [
    "a[0,1,2]"
   ]
  },
  {
   "cell_type": "code",
   "execution_count": 14,
   "metadata": {},
   "outputs": [],
   "source": [
    "a[np.arange(n), np.arange(n), np.arange(n)]=1"
   ]
  },
  {
   "cell_type": "code",
   "execution_count": 15,
   "metadata": {},
   "outputs": [
    {
     "data": {
      "text/plain": [
       "array([[[b'1', b'0 0 1', b'0 0 2', b'0 0 3'],\n",
       "        [b'0 1 0', b'0 1 1', b'0 1 2', b'0 1 3'],\n",
       "        [b'0 2 0', b'0 2 1', b'0 2 2', b'0 2 3'],\n",
       "        [b'0 3 0', b'0 3 1', b'0 3 2', b'0 3 3']],\n",
       "\n",
       "       [[b'1 0 0', b'1 0 1', b'1 0 2', b'1 0 3'],\n",
       "        [b'1 1 0', b'1', b'1 1 2', b'1 1 3'],\n",
       "        [b'1 2 0', b'1 2 1', b'1 2 2', b'1 2 3'],\n",
       "        [b'1 3 0', b'1 3 1', b'1 3 2', b'1 3 3']],\n",
       "\n",
       "       [[b'2 0 0', b'2 0 1', b'2 0 2', b'2 0 3'],\n",
       "        [b'2 1 0', b'2 1 1', b'2 1 2', b'2 1 3'],\n",
       "        [b'2 2 0', b'2 2 1', b'1', b'2 2 3'],\n",
       "        [b'2 3 0', b'2 3 1', b'2 3 2', b'2 3 3']],\n",
       "\n",
       "       [[b'3 0 0', b'3 0 1', b'3 0 2', b'3 0 3'],\n",
       "        [b'3 1 0', b'3 1 1', b'3 1 2', b'3 1 3'],\n",
       "        [b'3 2 0', b'3 2 1', b'3 2 2', b'3 2 3'],\n",
       "        [b'3 3 0', b'3 3 1', b'3 3 2', b'1']]], dtype='|S5')"
      ]
     },
     "execution_count": 15,
     "metadata": {},
     "output_type": "execute_result"
    }
   ],
   "source": [
    "a"
   ]
  },
  {
   "cell_type": "code",
   "execution_count": 17,
   "metadata": {},
   "outputs": [],
   "source": [
    "class A():\n",
    "    def __init__(self):\n",
    "        print(\"A init\")\n",
    "        self.m = 1\n",
    "    \n",
    "    def callA(self):\n",
    "        print(self.m)\n",
    "    \n",
    "    def callO(self):\n",
    "        print(\"call A\")\n",
    "        \n",
    "class B(A):\n",
    "    def __init__(self):\n",
    "        super()\n",
    "        \n",
    "    def callO(self):\n",
    "        print(\"call B\")"
   ]
  },
  {
   "cell_type": "code",
   "execution_count": 21,
   "metadata": {},
   "outputs": [
    {
     "name": "stdout",
     "output_type": "stream",
     "text": [
      "Marge Simpson\n",
      "Homer Simpson\n"
     ]
    }
   ],
   "source": [
    "class Person:\n",
    "\n",
    "    def __init__(self, first, last):\n",
    "        self.firstname = first\n",
    "        self.lastname = last\n",
    "\n",
    "    def __str__(self):\n",
    "        return self.firstname + \" \" + self.lastname\n",
    "\n",
    "class Employee(Person):\n",
    "\n",
    "    def __init__(self, first, last, staffnum):\n",
    "        super().__init__(first, last)\n",
    "        self.staffnumber = staffnum\n",
    "\n",
    "\n",
    "x = Person(\"Marge\", \"Simpson\")\n",
    "y = Employee(\"Homer\", \"Simpson\", \"1007\")\n",
    "\n",
    "print(x)\n",
    "print(y)"
   ]
  },
  {
   "cell_type": "code",
   "execution_count": 26,
   "metadata": {},
   "outputs": [
    {
     "name": "stdout",
     "output_type": "stream",
     "text": [
      "Marge Simpson\n",
      "Homer Simpson, 1007\n"
     ]
    }
   ],
   "source": [
    "class Person:\n",
    "\n",
    "    def __init__(self, first, last):\n",
    "        self.firstname = first\n",
    "        self.lastname = last\n",
    "\n",
    "    def Name(self):\n",
    "        return self.firstname + \" \" + self.lastname\n",
    "\n",
    "class Employee(Person):\n",
    "\n",
    "    def __init__(self, first, last, staffnum):\n",
    "        super().__init__(first, last)\n",
    "        self.staffnumber = staffnum\n",
    "\n",
    "    def GetEmployee(self):\n",
    "        return self.Name() + \", \" +  self.staffnumber\n",
    "\n",
    "x = Person(\"Marge\", \"Simpson\")\n",
    "y = Employee(\"Homer\", \"Simpson\", \"1007\")\n",
    "\n",
    "print(x.Name())\n",
    "print(y.GetEmployee())"
   ]
  },
  {
   "cell_type": "code",
   "execution_count": 27,
   "metadata": {},
   "outputs": [
    {
     "data": {
      "text/plain": [
       "'Homer Simpson'"
      ]
     },
     "execution_count": 27,
     "metadata": {},
     "output_type": "execute_result"
    }
   ],
   "source": [
    "y.Name()"
   ]
  },
  {
   "cell_type": "code",
   "execution_count": null,
   "metadata": {},
   "outputs": [],
   "source": []
  }
 ],
 "metadata": {
  "kernelspec": {
   "display_name": "Python 3",
   "language": "python",
   "name": "python3"
  },
  "language_info": {
   "codemirror_mode": {
    "name": "ipython",
    "version": 3
   },
   "file_extension": ".py",
   "mimetype": "text/x-python",
   "name": "python",
   "nbconvert_exporter": "python",
   "pygments_lexer": "ipython3",
   "version": "3.6.5"
  }
 },
 "nbformat": 4,
 "nbformat_minor": 2
}
